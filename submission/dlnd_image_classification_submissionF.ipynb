{
 "cells": [
  {
   "cell_type": "markdown",
   "metadata": {
    "collapsed": true
   },
   "source": [
    "# Image Classification\n",
    "Classification of images from the [CIFAR-10 dataset](https://www.cs.toronto.edu/~kriz/cifar.html).  The dataset consists of airplanes, dogs, cats, and other objects. You'll preprocess the images, then train a convolutional neural network on all the samples. The images need to be normalized and the labels need to be one-hot encoded.  You'll get to apply what you learned and build a convolutional, max pooling, dropout, and fully connected layers.  At the end, you'll get to see your neural network's predictions on the sample images.\n",
    "## Get the Data\n",
    "Run the following cell to download the [CIFAR-10 dataset for python](https://www.cs.toronto.edu/~kriz/cifar-10-python.tar.gz)."
   ]
  },
  {
   "cell_type": "code",
   "execution_count": 3,
   "metadata": {},
   "outputs": [
    {
     "name": "stderr",
     "output_type": "stream",
     "text": [
      "CIFAR-10 Dataset: 171MB [00:37, 4.53MB/s]                              \n"
     ]
    },
    {
     "name": "stdout",
     "output_type": "stream",
     "text": [
      "All files found!\n"
     ]
    }
   ],
   "source": [
    "\"\"\"\n",
    "DON'T MODIFY ANYTHING IN THIS CELL THAT IS BELOW THIS LINE\n",
    "\"\"\"\n",
    "from urllib.request import urlretrieve\n",
    "from os.path import isfile, isdir\n",
    "from tqdm import tqdm\n",
    "import problem_unittests as tests\n",
    "import tarfile\n",
    "\n",
    "cifar10_dataset_folder_path = 'cifar-10-batches-py'\n",
    "\n",
    "# Use Floyd's cifar-10 dataset if present\n",
    "floyd_cifar10_location = '/input/cifar-10/python.tar.gz'\n",
    "if isfile(floyd_cifar10_location):\n",
    "    tar_gz_path = floyd_cifar10_location\n",
    "else:\n",
    "    tar_gz_path = 'cifar-10-python.tar.gz'\n",
    "\n",
    "class DLProgress(tqdm):\n",
    "    last_block = 0\n",
    "\n",
    "    def hook(self, block_num=1, block_size=1, total_size=None):\n",
    "        self.total = total_size\n",
    "        self.update((block_num - self.last_block) * block_size)\n",
    "        self.last_block = block_num\n",
    "\n",
    "if not isfile(tar_gz_path):\n",
    "    with DLProgress(unit='B', unit_scale=True, miniters=1, desc='CIFAR-10 Dataset') as pbar:\n",
    "        urlretrieve(\n",
    "            'https://www.cs.toronto.edu/~kriz/cifar-10-python.tar.gz',\n",
    "            tar_gz_path,\n",
    "            pbar.hook)\n",
    "\n",
    "if not isdir(cifar10_dataset_folder_path):\n",
    "    with tarfile.open(tar_gz_path) as tar:\n",
    "        tar.extractall()\n",
    "        tar.close()\n",
    "\n",
    "\n",
    "tests.test_folder_path(cifar10_dataset_folder_path)"
   ]
  },
  {
   "cell_type": "markdown",
   "metadata": {},
   "source": [
    "## Explore the Data\n",
    "The dataset is broken into batches to prevent your machine from running out of memory.  The CIFAR-10 dataset consists of 5 batches, named `data_batch_1`, `data_batch_2`, etc.. Each batch contains the labels and images that are one of the following:\n",
    "* airplane\n",
    "* automobile\n",
    "* bird\n",
    "* cat\n",
    "* deer\n",
    "* dog\n",
    "* frog\n",
    "* horse\n",
    "* ship\n",
    "* truck\n",
    "\n",
    "Understanding a dataset is part of making predictions on the data.  Play around with the code cell below by changing the `batch_id` and `sample_id`. The `batch_id` is the id for a batch (1-5). The `sample_id` is the id for a image and label pair in the batch.\n",
    "\n",
    "Ask yourself \"What are all possible labels?\", \"What is the range of values for the image data?\", \"Are the labels in order or random?\".  Answers to questions like these will help you preprocess the data and end up with better predictions."
   ]
  },
  {
   "cell_type": "code",
   "execution_count": 4,
   "metadata": {},
   "outputs": [
    {
     "name": "stdout",
     "output_type": "stream",
     "text": [
      "\n",
      "Stats of batch 2:\n",
      "Samples: 10000\n",
      "Label Counts: {0: 984, 1: 1007, 2: 1010, 3: 995, 4: 1010, 5: 988, 6: 1008, 7: 1026, 8: 987, 9: 985}\n",
      "First 20 Labels: [1, 6, 6, 8, 8, 3, 4, 6, 0, 6, 0, 3, 6, 6, 5, 4, 8, 3, 2, 6]\n",
      "\n",
      "Example of Image 43:\n",
      "Image - Min Value: 66 Max Value: 255\n",
      "Image - Shape: (32, 32, 3)\n",
      "Label - Label Id: 0 Name: airplane\n"
     ]
    },
    {
     "data": {
      "image/png": "[encoded data removed]",
      "text/plain": [
       "<matplotlib.figure.Figure at 0x7f8221cf7828>"
      ]
     },
     "metadata": {
      "image/png": {
       "height": 250,
       "width": 253
      }
     },
     "output_type": "display_data"
    }
   ],
   "source": [
    "%matplotlib inline\n",
    "%config InlineBackend.figure_format = 'retina'\n",
    "\n",
    "import helper\n",
    "import numpy as np\n",
    "from sklearn import preprocessing\n",
    "\n",
    "# Explore the dataset\n",
    "batch_id = 2\n",
    "sample_id = 43\n",
    "helper.display_stats(cifar10_dataset_folder_path, batch_id, sample_id)"
   ]
  },
  {
   "cell_type": "markdown",
   "metadata": {},
   "source": [
    "## Implement Preprocess Functions\n",
    "### Normalize\n",
    "In the cell below, implement the `normalize` function to take in image data, `x`, and return it as a normalized Numpy array. The values should be in the range of 0 to 1, inclusive.  The return object should be the same shape as `x`."
   ]
  },
  {
   "cell_type": "code",
   "execution_count": 5,
   "metadata": {},
   "outputs": [
    {
     "name": "stdout",
     "output_type": "stream",
     "text": [
      "Tests Passed\n"
     ]
    }
   ],
   "source": [
    "def normalize(x):\n",
    "    \"\"\"\n",
    "    Normalize a list of sample image data in the range of 0 to 1\n",
    "    : x: List of image data.  The image shape is (32, 32, 3)\n",
    "    : return: Numpy array of normalize data\n",
    "    \"\"\"\n",
    "    # TODO: Implement Function\n",
    "    #x = x / 255\n",
    "    #print(x.shape)\n",
    "    #y = (x - min(0) / 255)\n",
    "    #print(x.shape)\n",
    "    return (x - x.min(0)) / x.ptp(0) # ptp is point to point max - min\n",
    "\n",
    "\"\"\"\n",
    "DON'T MODIFY ANYTHING IN THIS CELL THAT IS BELOW THIS LINE\n",
    "\"\"\"\n",
    "tests.test_normalize(normalize)"
   ]
  },
  {
   "cell_type": "markdown",
   "metadata": {},
   "source": [
    "### One-hot encode\n",
    "Just like the previous code cell, you'll be implementing a function for preprocessing.  This time, you'll implement the `one_hot_encode` function. The input, `x`, are a list of labels.  Implement the function to return the list of labels as One-Hot encoded Numpy array.  The possible values for labels are 0 to 9. The one-hot encoding function should return the same encoding for each value between each call to `one_hot_encode`.  Make sure to save the map of encodings outside the function.\n",
    "\n",
    "Hint: Don't reinvent the wheel."
   ]
  },
  {
   "cell_type": "code",
   "execution_count": 6,
   "metadata": {},
   "outputs": [
    {
     "name": "stdout",
     "output_type": "stream",
     "text": [
      "Tests Passed\n"
     ]
    }
   ],
   "source": [
    "def one_hot_encode(x):\n",
    "    \"\"\"\n",
    "    One hot encode a list of sample labels. Return a one-hot encoded vector for each label.\n",
    "    : x: List of sample Labels\n",
    "    : return: Numpy array of one-hot encoded labels\n",
    "    \"\"\"\n",
    "    # TODO: Implement Function\n",
    "    labels = np.array(x)\n",
    "    one_hot_labels = preprocessing.LabelBinarizer()\n",
    "    one_hot_labels.fit(np.eye(10)) # Fit label binarizer to a shape of 10x10 - 10 classes\n",
    "    one_hot_labels.transform(labels) # Transform multi-class labels to binary labels\n",
    "    return one_hot_labels.transform(labels)\n",
    "\n",
    "\"\"\"\n",
    "DON'T MODIFY ANYTHING IN THIS CELL THAT IS BELOW THIS LINE\n",
    "\"\"\"\n",
    "tests.test_one_hot_encode(one_hot_encode)"
   ]
  },
  {
   "cell_type": "markdown",
   "metadata": {},
   "source": [
    "### Randomize Data\n",
    "As you saw from exploring the data above, the order of the samples are randomized.  It doesn't hurt to randomize it again, but you don't need to for this dataset."
   ]
  },
  {
   "cell_type": "markdown",
   "metadata": {},
   "source": [
    "## Preprocess all the data and save it\n",
    "Running the code cell below will preprocess all the CIFAR-10 data and save it to file. The code below also uses 10% of the training data for validation."
   ]
  },
  {
   "cell_type": "code",
   "execution_count": 7,
   "metadata": {
    "collapsed": true
   },
   "outputs": [],
   "source": [
    "\"\"\"\n",
    "DON'T MODIFY ANYTHING IN THIS CELL\n",
    "\"\"\"\n",
    "# Preprocess Training, Validation, and Testing Data\n",
    "helper.preprocess_and_save_data(cifar10_dataset_folder_path, normalize, one_hot_encode)"
   ]
  },
  {
   "cell_type": "markdown",
   "metadata": {},
   "source": [
    "# Check Point\n",
    "This is your first checkpoint.  If you ever decide to come back to this notebook or have to restart the notebook, you can start from here.  The preprocessed data has been saved to disk."
   ]
  },
  {
   "cell_type": "code",
   "execution_count": 8,
   "metadata": {},
   "outputs": [],
   "source": [
    "\"\"\"\n",
    "DON'T MODIFY ANYTHING IN THIS CELL\n",
    "\"\"\"\n",
    "import pickle\n",
    "import problem_unittests as tests\n",
    "import helper\n",
    "\n",
    "# Load the Preprocessed Validation data\n",
    "valid_features, valid_labels = pickle.load(open('preprocess_validation.p', mode='rb'))"
   ]
  },
  {
   "cell_type": "markdown",
   "metadata": {},
   "source": [
    "## Build the network\n",
    "For the neural network, you'll build each layer into a function.  Most of the code you've seen has been outside of functions. To test your code more thoroughly, we require that you put each layer in a function.  This allows us to give you better feedback and test for simple mistakes using our unittests before you submit your project.\n",
    "\n",
    ">**Note:** If you're finding it hard to dedicate enough time for this course each week, we've provided a small shortcut to this part of the project. In the next couple of problems, you'll have the option to use classes from the [TensorFlow Layers](https://www.tensorflow.org/api_docs/python/tf/layers) or [TensorFlow Layers (contrib)](https://www.tensorflow.org/api_guides/python/contrib.layers) packages to build each layer, except the layers you build in the \"Convolutional and Max Pooling Layer\" section.  TF Layers is similar to Keras's and TFLearn's abstraction to layers, so it's easy to pickup.\n",
    "\n",
    ">However, if you would like to get the most out of this course, try to solve all the problems _without_ using anything from the TF Layers packages. You **can** still use classes from other packages that happen to have the same name as ones you find in TF Layers! For example, instead of using the TF Layers version of the `conv2d` class, [tf.layers.conv2d](https://www.tensorflow.org/api_docs/python/tf/layers/conv2d), you would want to use the TF Neural Network version of `conv2d`, [tf.nn.conv2d](https://www.tensorflow.org/api_docs/python/tf/nn/conv2d). \n",
    "\n",
    "Let's begin!\n",
    "\n",
    "### Input\n",
    "The neural network needs to read the image data, one-hot encoded labels, and dropout keep probability. Implement the following functions\n",
    "* Implement `neural_net_image_input`\n",
    " * Return a [TF Placeholder](https://www.tensorflow.org/api_docs/python/tf/placeholder)\n",
    " * Set the shape using `image_shape` with batch size set to `None`.\n",
    " * Name the TensorFlow placeholder \"x\" using the TensorFlow `name` parameter in the [TF Placeholder](https://www.tensorflow.org/api_docs/python/tf/placeholder).\n",
    "* Implement `neural_net_label_input`\n",
    " * Return a [TF Placeholder](https://www.tensorflow.org/api_docs/python/tf/placeholder)\n",
    " * Set the shape using `n_classes` with batch size set to `None`.\n",
    " * Name the TensorFlow placeholder \"y\" using the TensorFlow `name` parameter in the [TF Placeholder](https://www.tensorflow.org/api_docs/python/tf/placeholder).\n",
    "* Implement `neural_net_keep_prob_input`\n",
    " * Return a [TF Placeholder](https://www.tensorflow.org/api_docs/python/tf/placeholder) for dropout keep probability.\n",
    " * Name the TensorFlow placeholder \"keep_prob\" using the TensorFlow `name` parameter in the [TF Placeholder](https://www.tensorflow.org/api_docs/python/tf/placeholder).\n",
    "\n",
    "These names will be used at the end of the project to load your saved model.\n",
    "\n",
    "Note: `None` for shapes in TensorFlow allow for a dynamic size."
   ]
  },
  {
   "cell_type": "code",
   "execution_count": 9,
   "metadata": {},
   "outputs": [
    {
     "name": "stdout",
     "output_type": "stream",
     "text": [
      "Image Input Tests Passed.\n",
      "Label Input Tests Passed.\n",
      "Keep Prob Tests Passed.\n"
     ]
    }
   ],
   "source": [
    "import tensorflow as tf\n",
    "\n",
    "def neural_net_image_input(image_shape):\n",
    "    \"\"\"\n",
    "    Return a Tensor for a batch of image input\n",
    "    : image_shape: Shape of the images\n",
    "    : return: Tensor for image input.\n",
    "    \"\"\"\n",
    "    # TODO: Implement Function\n",
    "    features = tf.placeholder(tf.float32,shape=[None, 32,32,3],name=\"x\")\n",
    "    return features\n",
    "\n",
    "\n",
    "def neural_net_label_input(n_classes):\n",
    "    \"\"\"\n",
    "    Return a Tensor for a batch of label input\n",
    "    : n_classes: Number of classes\n",
    "    : return: Tensor for label input.\n",
    "    \"\"\"\n",
    "    # TODO: Implement Function\n",
    "    labels = tf.placeholder(tf.int32,shape=[None, 10],name=\"y\")\n",
    "    return labels\n",
    "\n",
    "\n",
    "def neural_net_keep_prob_input():\n",
    "    \"\"\"\n",
    "    Return a Tensor for keep probability\n",
    "    : return: Tensor for keep probability.\n",
    "    \"\"\"\n",
    "    # TODO: Implement Function\n",
    "    keep_prob = tf.placeholder(tf.float32,name=\"keep_prob\")\n",
    "    return keep_prob\n",
    "\n",
    "\n",
    "\"\"\"\n",
    "DON'T MODIFY ANYTHING IN THIS CELL THAT IS BELOW THIS LINE\n",
    "\"\"\"\n",
    "tf.reset_default_graph()\n",
    "tests.test_nn_image_inputs(neural_net_image_input)\n",
    "tests.test_nn_label_inputs(neural_net_label_input)\n",
    "tests.test_nn_keep_prob_inputs(neural_net_keep_prob_input)"
   ]
  },
  {
   "cell_type": "markdown",
   "metadata": {},
   "source": [
    "### Convolution and Max Pooling Layer\n",
    "Convolution layers have a lot of success with images. For this code cell, you should implement the function `conv2d_maxpool` to apply convolution then max pooling:\n",
    "* Create the weight and bias using `conv_ksize`, `conv_num_outputs` and the shape of `x_tensor`.\n",
    "* Apply a convolution to `x_tensor` using weight and `conv_strides`.\n",
    " * We recommend you use same padding, but you're welcome to use any padding.\n",
    "* Add bias\n",
    "* Add a nonlinear activation to the convolution.\n",
    "* Apply Max Pooling using `pool_ksize` and `pool_strides`.\n",
    " * We recommend you use same padding, but you're welcome to use any padding.\n",
    "\n",
    "**Note:** You **can't** use [TensorFlow Layers](https://www.tensorflow.org/api_docs/python/tf/layers) or [TensorFlow Layers (contrib)](https://www.tensorflow.org/api_guides/python/contrib.layers) for **this** layer, but you can still use TensorFlow's [Neural Network](https://www.tensorflow.org/api_docs/python/tf/nn) package. You may still use the shortcut option for all the **other** layers."
   ]
  },
  {
   "cell_type": "code",
   "execution_count": 10,
   "metadata": {},
   "outputs": [
    {
     "name": "stdout",
     "output_type": "stream",
     "text": [
      "Tests Passed\n"
     ]
    }
   ],
   "source": [
    "import math\n",
    "\n",
    "def conv2d_maxpool(x_tensor, conv_num_outputs, conv_ksize, conv_strides, pool_ksize, pool_strides):\n",
    "    \"\"\"\n",
    "    Apply convolution then max pooling to x_tensor\n",
    "    :param x_tensor: TensorFlow Tensor\n",
    "    :param conv_num_outputs: Number of outputs for the convolutional layer\n",
    "    :param conv_ksize: kernal size 2-D Tuple for the convolutional layer\n",
    "    :param conv_strides: Stride 2-D Tuple for convolution\n",
    "    :param pool_ksize: kernal size 2-D Tuple for pool\n",
    "    :param pool_strides: Stride 2-D Tuple for pool\n",
    "    : return: A tensor that represents convolution and max pooling of x_tensor\n",
    "    \"\"\"\n",
    "    # TODO: Implement Function\n",
    "    \n",
    "    \n",
    "    #Weight and bias - Weights and bias for the first input layer\n",
    "    weight = tf.Variable(tf.truncated_normal([conv_ksize[0], conv_ksize[1], int(x_tensor.get_shape()[3]), conv_num_outputs], stddev=1/math.sqrt(256)))\n",
    "    bias = tf.Variable(tf.zeros(conv_num_outputs))\n",
    "\n",
    "    # Apply Convolution through weights, strides, and padding\n",
    "    conv_layer = tf.nn.conv2d(x_tensor, weight, strides=[1, conv_strides[0], conv_strides[1], 1], padding='SAME')\n",
    "    # Apply bias\n",
    "    conv_layer = tf.nn.bias_add(conv_layer, bias)\n",
    "    # Apply a non_linear activation function\n",
    "    conv_layer = tf.nn.relu(conv_layer)\n",
    "    # Apply max pooling\n",
    "    max_pool_layer = tf.nn.max_pool(conv_layer, ksize=[1, pool_ksize[0], pool_ksize[1], 1], strides=[1, pool_strides[0], pool_strides[1], 1], padding='SAME')\n",
    "    return max_pool_layer\n",
    "\n",
    "\n",
    "\"\"\"\n",
    "DON'T MODIFY ANYTHING IN THIS CELL THAT IS BELOW THIS LINE\n",
    "\"\"\"\n",
    "tests.test_con_pool(conv2d_maxpool)"
   ]
  },
  {
   "cell_type": "markdown",
   "metadata": {},
   "source": [
    "### Flatten Layer\n",
    "Implement the `flatten` function to change the dimension of `x_tensor` from a 4-D tensor to a 2-D tensor.  The output should be the shape (*Batch Size*, *Flattened Image Size*). Shortcut option: you can use classes from the [TensorFlow Layers](https://www.tensorflow.org/api_docs/python/tf/layers) or [TensorFlow Layers (contrib)](https://www.tensorflow.org/api_guides/python/contrib.layers) packages for this layer. For more of a challenge, only use other TensorFlow packages."
   ]
  },
  {
   "cell_type": "code",
   "execution_count": 11,
   "metadata": {},
   "outputs": [
    {
     "name": "stdout",
     "output_type": "stream",
     "text": [
      "Tests Passed\n"
     ]
    }
   ],
   "source": [
    "def flatten(x_tensor):\n",
    "    \"\"\"\n",
    "    Flatten x_tensor to (Batch Size, Flattened Image Size)\n",
    "    : x_tensor: A tensor of size (Batch Size, ...), where ... are the image dimensions.\n",
    "    : return: A tensor of size (Batch Size, Flattened Image Size).\n",
    "    \"\"\"\n",
    "#     # TODO: Implement Function\n",
    "#     print(x_tensor)\n",
    "#     list = x_tensor.get_shape().as_list()\n",
    "#     print(list)\n",
    "#     flattern_output = tf.contrib.layers.flatten(list)\n",
    "#     print(flattern_output)\n",
    "    return tf.contrib.layers.flatten(x_tensor)\n",
    "\n",
    "\n",
    "\"\"\"\n",
    "DON'T MODIFY ANYTHING IN THIS CELL THAT IS BELOW THIS LINE\n",
    "\"\"\"\n",
    "tests.test_flatten(flatten)"
   ]
  },
  {
   "cell_type": "markdown",
   "metadata": {},
   "source": [
    "### Fully-Connected Layer\n",
    "Implement the `fully_conn` function to apply a fully connected layer to `x_tensor` with the shape (*Batch Size*, *num_outputs*). Shortcut option: you can use classes from the [TensorFlow Layers](https://www.tensorflow.org/api_docs/python/tf/layers) or [TensorFlow Layers (contrib)](https://www.tensorflow.org/api_guides/python/contrib.layers) packages for this layer. For more of a challenge, only use other TensorFlow packages."
   ]
  },
  {
   "cell_type": "code",
   "execution_count": 12,
   "metadata": {},
   "outputs": [
    {
     "name": "stdout",
     "output_type": "stream",
     "text": [
      "Tests Passed\n"
     ]
    }
   ],
   "source": [
    "def fully_conn(x_tensor, num_outputs):\n",
    "    \"\"\"\n",
    "    Apply a fully connected layer to x_tensor using weight and bias\n",
    "    : x_tensor: A 2-D tensor where the first dimension is batch size.\n",
    "    : num_outputs: The number of output that the new tensor should be.\n",
    "    : return: A 2-D tensor where the second dimension is num_outputs.\n",
    "    \"\"\"\n",
    "    # TODO: Implement Function\n",
    "    full_weights = tf.Variable(tf.truncated_normal([x_tensor.shape[1].value, num_outputs], stddev=1/math.sqrt(256)))\n",
    "    full_biases = tf.Variable(tf.zeros([num_outputs]))\n",
    "    connected_tensor = tf.add(tf.matmul(x_tensor, full_weights), full_biases)\n",
    "    connected_tensor = tf.nn.relu(connected_tensor)\n",
    "    return connected_tensor\n",
    "\n",
    "\"\"\"\n",
    "DON'T MODIFY ANYTHING IN THIS CELL THAT IS BELOW THIS LINE\n",
    "\"\"\"\n",
    "tests.test_fully_conn(fully_conn)"
   ]
  },
  {
   "cell_type": "markdown",
   "metadata": {},
   "source": [
    "### Output Layer\n",
    "Implement the `output` function to apply a fully connected layer to `x_tensor` with the shape (*Batch Size*, *num_outputs*). Shortcut option: you can use classes from the [TensorFlow Layers](https://www.tensorflow.org/api_docs/python/tf/layers) or [TensorFlow Layers (contrib)](https://www.tensorflow.org/api_guides/python/contrib.layers) packages for this layer. For more of a challenge, only use other TensorFlow packages.\n",
    "\n",
    "**Note:** Activation, softmax, or cross entropy should **not** be applied to this."
   ]
  },
  {
   "cell_type": "code",
   "execution_count": 13,
   "metadata": {},
   "outputs": [
    {
     "name": "stdout",
     "output_type": "stream",
     "text": [
      "Tests Passed\n"
     ]
    }
   ],
   "source": [
    "def output(x_tensor, num_outputs):\n",
    "    \"\"\"\n",
    "    Apply a output layer to x_tensor using weight and bias\n",
    "    : x_tensor: A 2-D tensor where the first dimension is batch size.\n",
    "    : num_outputs: The number of output that the new tensor should be.\n",
    "    : return: A 2-D tensor where the second dimension is num_outputs.\n",
    "    \"\"\"\n",
    "    # TODO: Implement Function\n",
    "    #print(x_tensor.shape) - #(?, 128)\n",
    "    output_weights = tf.Variable(tf.truncated_normal([x_tensor.shape[1].value, num_outputs], stddev=1/math.sqrt(256)))\n",
    "    output_biases = tf.Variable(tf.zeros([num_outputs]))\n",
    "    output_tensor = tf.add(tf.matmul(x_tensor, output_weights), output_biases)\n",
    "    return output_tensor\n",
    "\n",
    "\n",
    "\"\"\"\n",
    "DON'T MODIFY ANYTHING IN THIS CELL THAT IS BELOW THIS LINE\n",
    "\"\"\"\n",
    "tests.test_output(output)"
   ]
  },
  {
   "cell_type": "markdown",
   "metadata": {},
   "source": [
    "### Create Convolutional Model\n",
    "Implement the function `conv_net` to create a convolutional neural network model. The function takes in a batch of images, `x`, and outputs logits.  Use the layers you created above to create this model:\n",
    "\n",
    "* Apply 1, 2, or 3 Convolution and Max Pool layers\n",
    "* Apply a Flatten Layer\n",
    "* Apply 1, 2, or 3 Fully Connected Layers\n",
    "* Apply an Output Layer\n",
    "* Return the output\n",
    "* Apply [TensorFlow's Dropout](https://www.tensorflow.org/api_docs/python/tf/nn/dropout) to one or more layers in the model using `keep_prob`. "
   ]
  },
  {
   "cell_type": "code",
   "execution_count": 46,
   "metadata": {},
   "outputs": [
    {
     "name": "stdout",
     "output_type": "stream",
     "text": [
      "Neural Network Built!\n"
     ]
    }
   ],
   "source": [
    "def conv_net(x, keep_prob):\n",
    "    \"\"\"\n",
    "    Create a convolutional neural network model\n",
    "    : x: Placeholder tensor that holds image data.\n",
    "    : keep_prob: Placeholder tensor that hold dropout keep probability.\n",
    "    : return: Tensor that represents logits\n",
    "    \"\"\"\n",
    "    \"\"\"\n",
    "    Apply convolution then max pooling to x_tensor\n",
    "    :param x_tensor: TensorFlow Tensor\n",
    "    :param conv_num_outputs: Number of outputs for the convolutional layer\n",
    "    :param conv_ksize: kernal size 2-D Tuple for the convolutional layer\n",
    "    :param conv_strides: Stride 2-D Tuple for convolution\n",
    "    :param pool_ksize: kernal size 2-D Tuple for pool\n",
    "    :param pool_strides: Stride 2-D Tuple for pool\n",
    "    : return: A tensor that represents convolution and max pooling of x_tensor\n",
    "    \"\"\"\n",
    "    # TODO: Apply 1, 2, or 3 Convolution and Max Pool layers\n",
    "    #    Play around with different number of outputs, kernel size and stride\n",
    "    # Function Definition from Above:\n",
    "    #    conv2d_maxpool(x_tensor, conv_num_outputs, conv_ksize, conv_strides, pool_ksize, pool_strides)\n",
    "    conv_mp_L1 = conv2d_maxpool(x, 128, (5,5), (1,1), (2,2), (2,2))\n",
    "    conv_mp_L2 = conv2d_maxpool(conv_mp_L1, 128, (3,3), (1,1), (3,3), (2,2))\n",
    "    \n",
    "    # TODO: Apply a Flatten Layer\n",
    "    # Function Definition from Above:\n",
    "    #   flatten(x_tensor)\n",
    "    flatten_layer = flatten(conv_mp_L2)\n",
    "\n",
    "    # TODO: Apply 1, 2, or 3 Fully Connected Layers\n",
    "    #    Play around with different number of outputs\n",
    "    # Function Definition from Above:\n",
    "    #   fully_conn(x_tensor, num_outputs)\n",
    "    f_connected_layer = fully_conn(flatten_layer, 1024)\n",
    "    drop_out_1 = tf.nn.dropout(f_connected_layer, keep_prob)\n",
    "    f_connected_layerL2 = fully_conn(drop_out_1, 1024)\n",
    "    drop_out_2 = tf.nn.dropout(f_connected_layerL2, keep_prob)\n",
    "    \n",
    "    # TODO: Apply an Output Layer\n",
    "    #    Set this to the number of classes\n",
    "    # Function Definition from Above:\n",
    "    #   output(x_tensor, num_outputs)\n",
    "    output_layer = output(drop_out_2, 10)\n",
    "    \n",
    "    # TODO: return output\n",
    "    return output_layer\n",
    "\n",
    "\n",
    "\"\"\"\n",
    "DON'T MODIFY ANYTHING IN THIS CELL THAT IS BELOW THIS LINE\n",
    "\"\"\"\n",
    "\n",
    "##############################\n",
    "## Build the Neural Network ##\n",
    "##############################\n",
    "\n",
    "# Remove previous weights, bias, inputs, etc..\n",
    "tf.reset_default_graph()\n",
    "\n",
    "# Inputs\n",
    "x = neural_net_image_input((32, 32, 3))\n",
    "y = neural_net_label_input(10)\n",
    "keep_prob = neural_net_keep_prob_input()\n",
    "\n",
    "# Model\n",
    "logits = conv_net(x, keep_prob)\n",
    "\n",
    "# Name logits Tensor, so that is can be loaded from disk after training\n",
    "logits = tf.identity(logits, name='logits')\n",
    "\n",
    "# Loss and Optimizer\n",
    "cost = tf.reduce_mean(tf.nn.softmax_cross_entropy_with_logits(logits=logits, labels=y))\n",
    "optimizer = tf.train.AdamOptimizer().minimize(cost)\n",
    "\n",
    "# Accuracy\n",
    "correct_pred = tf.equal(tf.argmax(logits, 1), tf.argmax(y, 1))\n",
    "accuracy = tf.reduce_mean(tf.cast(correct_pred, tf.float32), name='accuracy')\n",
    "\n",
    "tests.test_conv_net(conv_net)"
   ]
  },
  {
   "cell_type": "markdown",
   "metadata": {},
   "source": [
    "## Train the Neural Network\n",
    "### Single Optimization\n",
    "Implement the function `train_neural_network` to do a single optimization.  The optimization should use `optimizer` to optimize in `session` with a `feed_dict` of the following:\n",
    "* `x` for image input\n",
    "* `y` for labels\n",
    "* `keep_prob` for keep probability for dropout\n",
    "\n",
    "This function will be called for each batch, so `tf.global_variables_initializer()` has already been called.\n",
    "\n",
    "Note: Nothing needs to be returned. This function is only optimizing the neural network."
   ]
  },
  {
   "cell_type": "code",
   "execution_count": 47,
   "metadata": {},
   "outputs": [
    {
     "name": "stdout",
     "output_type": "stream",
     "text": [
      "Tests Passed\n"
     ]
    }
   ],
   "source": [
    "def train_neural_network(session, optimizer, keep_probability, feature_batch, label_batch):\n",
    "    \"\"\"\n",
    "    Optimize the session on a batch of images and labels\n",
    "    : session: Current TensorFlow session\n",
    "    : optimizer: TensorFlow optimizer function\n",
    "    : keep_probability: keep probability\n",
    "    : feature_batch: Batch of Numpy image data\n",
    "    : label_batch: Batch of Numpy label data\n",
    "    \"\"\"\n",
    "    # TODO: Implement Function    \n",
    "    session.run(optimizer, feed_dict={x: feature_batch, y: label_batch, keep_prob: keep_probability})\n",
    "    pass\n",
    "\n",
    "\n",
    "\"\"\"\n",
    "DON'T MODIFY ANYTHING IN THIS CELL THAT IS BELOW THIS LINE\n",
    "\"\"\"\n",
    "tests.test_train_nn(train_neural_network)"
   ]
  },
  {
   "cell_type": "markdown",
   "metadata": {},
   "source": [
    "### Show Stats\n",
    "Implement the function `print_stats` to print loss and validation accuracy.  Use the global variables `valid_features` and `valid_labels` to calculate validation accuracy.  Use a keep probability of `1.0` to calculate the loss and validation accuracy."
   ]
  },
  {
   "cell_type": "code",
   "execution_count": 48,
   "metadata": {
    "collapsed": true
   },
   "outputs": [],
   "source": [
    "def print_stats(session, feature_batch, label_batch, cost, accuracy):\n",
    "    \"\"\"\n",
    "    Print information about loss and validation accuracy\n",
    "    : session: Current TensorFlow session\n",
    "    : feature_batch: Batch of Numpy image data\n",
    "    : label_batch: Batch of Numpy label data\n",
    "    : cost: TensorFlow cost function\n",
    "    : accuracy: TensorFlow accuracy function\n",
    "    \"\"\"\n",
    "    # TODO: Implement Function\n",
    "    loss = session.run(cost, feed_dict={x: feature_batch,y: label_batch,keep_prob: 1.0})\n",
    "    val_acc = session.run(accuracy, feed_dict={x: valid_features,y: valid_labels,keep_prob: 1.0})\n",
    "    print('Training loss: {:<8.3} Validation accuracy: {:<5.3}'.format(loss, val_acc))\n",
    "    pass"
   ]
  },
  {
   "cell_type": "markdown",
   "metadata": {},
   "source": [
    "### Hyperparameters\n",
    "Tune the following parameters:\n",
    "* Set `epochs` to the number of iterations until the network stops learning or start overfitting\n",
    "* Set `batch_size` to the highest number that your machine has memory for.  Most people set them to common sizes of memory:\n",
    " * 64\n",
    " * 128\n",
    " * 256\n",
    " * ...\n",
    "* Set `keep_probability` to the probability of keeping a node using dropout"
   ]
  },
  {
   "cell_type": "code",
   "execution_count": 49,
   "metadata": {
    "collapsed": true
   },
   "outputs": [],
   "source": [
    "# TODO: Tune Parameters\n",
    "epochs = 50\n",
    "batch_size = 256\n",
    "keep_probability = 0.75"
   ]
  },
  {
   "cell_type": "markdown",
   "metadata": {},
   "source": [
    "### Train on a Single CIFAR-10 Batch\n",
    "Instead of training the neural network on all the CIFAR-10 batches of data, let's use a single batch. This should save time while you iterate on the model to get a better accuracy.  Once the final validation accuracy is 50% or greater, run the model on all the data in the next section."
   ]
  },
  {
   "cell_type": "code",
   "execution_count": 50,
   "metadata": {},
   "outputs": [
    {
     "name": "stdout",
     "output_type": "stream",
     "text": [
      "Checking the Training on a Single Batch...\n",
      "Epoch  1, CIFAR-10 Batch 1:  Training loss: 1.89     Validation accuracy: 0.365\n",
      "Epoch  2, CIFAR-10 Batch 1:  Training loss: 1.37     Validation accuracy: 0.462\n",
      "Epoch  3, CIFAR-10 Batch 1:  Training loss: 1.04     Validation accuracy: 0.468\n",
      "Epoch  4, CIFAR-10 Batch 1:  Training loss: 0.751    Validation accuracy: 0.508\n",
      "Epoch  5, CIFAR-10 Batch 1:  Training loss: 0.541    Validation accuracy: 0.531\n",
      "Epoch  6, CIFAR-10 Batch 1:  Training loss: 0.381    Validation accuracy: 0.553\n",
      "Epoch  7, CIFAR-10 Batch 1:  Training loss: 0.221    Validation accuracy: 0.546\n",
      "Epoch  8, CIFAR-10 Batch 1:  Training loss: 0.169    Validation accuracy: 0.544\n",
      "Epoch  9, CIFAR-10 Batch 1:  Training loss: 0.0888   Validation accuracy: 0.552\n",
      "Epoch 10, CIFAR-10 Batch 1:  Training loss: 0.0748   Validation accuracy: 0.556\n",
      "Epoch 11, CIFAR-10 Batch 1:  Training loss: 0.0657   Validation accuracy: 0.557\n",
      "Epoch 12, CIFAR-10 Batch 1:  Training loss: 0.0491   Validation accuracy: 0.577\n",
      "Epoch 13, CIFAR-10 Batch 1:  Training loss: 0.0282   Validation accuracy: 0.567\n",
      "Epoch 14, CIFAR-10 Batch 1:  Training loss: 0.02     Validation accuracy: 0.576\n",
      "Epoch 15, CIFAR-10 Batch 1:  Training loss: 0.00982  Validation accuracy: 0.573\n",
      "Epoch 16, CIFAR-10 Batch 1:  Training loss: 0.00467  Validation accuracy: 0.59 \n",
      "Epoch 17, CIFAR-10 Batch 1:  Training loss: 0.0052   Validation accuracy: 0.588\n",
      "Epoch 18, CIFAR-10 Batch 1:  Training loss: 0.0027   Validation accuracy: 0.597\n",
      "Epoch 19, CIFAR-10 Batch 1:  Training loss: 0.00405  Validation accuracy: 0.598\n",
      "Epoch 20, CIFAR-10 Batch 1:  Training loss: 0.00222  Validation accuracy: 0.586\n",
      "Epoch 21, CIFAR-10 Batch 1:  Training loss: 0.00107  Validation accuracy: 0.593\n",
      "Epoch 22, CIFAR-10 Batch 1:  Training loss: 0.00252  Validation accuracy: 0.604\n",
      "Epoch 23, CIFAR-10 Batch 1:  Training loss: 0.000444 Validation accuracy: 0.598\n",
      "Epoch 24, CIFAR-10 Batch 1:  Training loss: 0.00105  Validation accuracy: 0.596\n",
      "Epoch 25, CIFAR-10 Batch 1:  Training loss: 0.000952 Validation accuracy: 0.588\n",
      "Epoch 26, CIFAR-10 Batch 1:  Training loss: 0.000649 Validation accuracy: 0.587\n",
      "Epoch 27, CIFAR-10 Batch 1:  Training loss: 0.000176 Validation accuracy: 0.587\n",
      "Epoch 28, CIFAR-10 Batch 1:  Training loss: 0.000537 Validation accuracy: 0.591\n",
      "Epoch 29, CIFAR-10 Batch 1:  Training loss: 0.000997 Validation accuracy: 0.588\n",
      "Epoch 30, CIFAR-10 Batch 1:  Training loss: 0.000427 Validation accuracy: 0.575\n",
      "Epoch 31, CIFAR-10 Batch 1:  Training loss: 0.00023  Validation accuracy: 0.597\n",
      "Epoch 32, CIFAR-10 Batch 1:  Training loss: 0.000186 Validation accuracy: 0.592\n",
      "Epoch 33, CIFAR-10 Batch 1:  Training loss: 0.000168 Validation accuracy: 0.59 \n",
      "Epoch 34, CIFAR-10 Batch 1:  Training loss: 0.000714 Validation accuracy: 0.581\n",
      "Epoch 35, CIFAR-10 Batch 1:  Training loss: 4.37e-05 Validation accuracy: 0.6  \n",
      "Epoch 36, CIFAR-10 Batch 1:  Training loss: 0.000958 Validation accuracy: 0.585\n",
      "Epoch 37, CIFAR-10 Batch 1:  Training loss: 0.000519 Validation accuracy: 0.589\n",
      "Epoch 38, CIFAR-10 Batch 1:  Training loss: 0.00172  Validation accuracy: 0.59 \n",
      "Epoch 39, CIFAR-10 Batch 1:  Training loss: 0.00047  Validation accuracy: 0.591\n",
      "Epoch 40, CIFAR-10 Batch 1:  Training loss: 6.68e-05 Validation accuracy: 0.588\n",
      "Epoch 41, CIFAR-10 Batch 1:  Training loss: 0.000364 Validation accuracy: 0.585\n",
      "Epoch 42, CIFAR-10 Batch 1:  Training loss: 0.00021  Validation accuracy: 0.591\n",
      "Epoch 43, CIFAR-10 Batch 1:  Training loss: 0.000804 Validation accuracy: 0.582\n",
      "Epoch 44, CIFAR-10 Batch 1:  Training loss: 0.000208 Validation accuracy: 0.592\n",
      "Epoch 45, CIFAR-10 Batch 1:  Training loss: 5.92e-05 Validation accuracy: 0.589\n",
      "Epoch 46, CIFAR-10 Batch 1:  Training loss: 6.78e-05 Validation accuracy: 0.605\n",
      "Epoch 47, CIFAR-10 Batch 1:  Training loss: 5.29e-05 Validation accuracy: 0.591\n",
      "Epoch 48, CIFAR-10 Batch 1:  Training loss: 1.01e-05 Validation accuracy: 0.605\n",
      "Epoch 49, CIFAR-10 Batch 1:  Training loss: 0.00017  Validation accuracy: 0.608\n",
      "Epoch 50, CIFAR-10 Batch 1:  Training loss: 8.35e-05 Validation accuracy: 0.604\n"
     ]
    }
   ],
   "source": [
    "\"\"\"\n",
    "DON'T MODIFY ANYTHING IN THIS CELL\n",
    "\"\"\"\n",
    "print('Checking the Training on a Single Batch...')\n",
    "with tf.Session() as sess:\n",
    "    # Initializing the variables\n",
    "    sess.run(tf.global_variables_initializer())\n",
    "    \n",
    "    # Training cycle\n",
    "    for epoch in range(epochs):\n",
    "        batch_i = 1\n",
    "        for batch_features, batch_labels in helper.load_preprocess_training_batch(batch_i, batch_size):\n",
    "            train_neural_network(sess, optimizer, keep_probability, batch_features, batch_labels)\n",
    "        print('Epoch {:>2}, CIFAR-10 Batch {}:  '.format(epoch + 1, batch_i), end='')\n",
    "        print_stats(sess, batch_features, batch_labels, cost, accuracy)"
   ]
  },
  {
   "cell_type": "markdown",
   "metadata": {},
   "source": [
    "### Fully Train the Model\n",
    "Now that you got a good accuracy with a single CIFAR-10 batch, try it with all five batches."
   ]
  },
  {
   "cell_type": "code",
   "execution_count": 51,
   "metadata": {},
   "outputs": [
    {
     "name": "stdout",
     "output_type": "stream",
     "text": [
      "Training...\n",
      "Epoch  1, CIFAR-10 Batch 1:  Training loss: 1.91     Validation accuracy: 0.366\n",
      "Epoch  1, CIFAR-10 Batch 2:  Training loss: 1.37     Validation accuracy: 0.454\n",
      "Epoch  1, CIFAR-10 Batch 3:  Training loss: 1.15     Validation accuracy: 0.499\n",
      "Epoch  1, CIFAR-10 Batch 4:  Training loss: 1.16     Validation accuracy: 0.493\n",
      "Epoch  1, CIFAR-10 Batch 5:  Training loss: 1.22     Validation accuracy: 0.552\n",
      "Epoch  2, CIFAR-10 Batch 1:  Training loss: 1.05     Validation accuracy: 0.556\n",
      "Epoch  2, CIFAR-10 Batch 2:  Training loss: 0.807    Validation accuracy: 0.601\n",
      "Epoch  2, CIFAR-10 Batch 3:  Training loss: 0.656    Validation accuracy: 0.579\n",
      "Epoch  2, CIFAR-10 Batch 4:  Training loss: 0.657    Validation accuracy: 0.612\n",
      "Epoch  2, CIFAR-10 Batch 5:  Training loss: 0.678    Validation accuracy: 0.631\n",
      "Epoch  3, CIFAR-10 Batch 1:  Training loss: 0.748    Validation accuracy: 0.63 \n",
      "Epoch  3, CIFAR-10 Batch 2:  Training loss: 0.487    Validation accuracy: 0.651\n",
      "Epoch  3, CIFAR-10 Batch 3:  Training loss: 0.373    Validation accuracy: 0.614\n",
      "Epoch  3, CIFAR-10 Batch 4:  Training loss: 0.452    Validation accuracy: 0.642\n",
      "Epoch  3, CIFAR-10 Batch 5:  Training loss: 0.324    Validation accuracy: 0.665\n",
      "Epoch  4, CIFAR-10 Batch 1:  Training loss: 0.413    Validation accuracy: 0.649\n",
      "Epoch  4, CIFAR-10 Batch 2:  Training loss: 0.28     Validation accuracy: 0.647\n",
      "Epoch  4, CIFAR-10 Batch 3:  Training loss: 0.194    Validation accuracy: 0.685\n",
      "Epoch  4, CIFAR-10 Batch 4:  Training loss: 0.276    Validation accuracy: 0.673\n",
      "Epoch  4, CIFAR-10 Batch 5:  Training loss: 0.182    Validation accuracy: 0.662\n",
      "Epoch  5, CIFAR-10 Batch 1:  Training loss: 0.222    Validation accuracy: 0.665\n",
      "Epoch  5, CIFAR-10 Batch 2:  Training loss: 0.176    Validation accuracy: 0.689\n",
      "Epoch  5, CIFAR-10 Batch 3:  Training loss: 0.106    Validation accuracy: 0.682\n",
      "Epoch  5, CIFAR-10 Batch 4:  Training loss: 0.13     Validation accuracy: 0.682\n",
      "Epoch  5, CIFAR-10 Batch 5:  Training loss: 0.107    Validation accuracy: 0.676\n",
      "Epoch  6, CIFAR-10 Batch 1:  Training loss: 0.139    Validation accuracy: 0.694\n",
      "Epoch  6, CIFAR-10 Batch 2:  Training loss: 0.118    Validation accuracy: 0.68 \n",
      "Epoch  6, CIFAR-10 Batch 3:  Training loss: 0.0709   Validation accuracy: 0.677\n",
      "Epoch  6, CIFAR-10 Batch 4:  Training loss: 0.0797   Validation accuracy: 0.674\n",
      "Epoch  6, CIFAR-10 Batch 5:  Training loss: 0.0489   Validation accuracy: 0.686\n",
      "Epoch  7, CIFAR-10 Batch 1:  Training loss: 0.0666   Validation accuracy: 0.693\n",
      "Epoch  7, CIFAR-10 Batch 2:  Training loss: 0.059    Validation accuracy: 0.691\n",
      "Epoch  7, CIFAR-10 Batch 3:  Training loss: 0.0414   Validation accuracy: 0.692\n",
      "Epoch  7, CIFAR-10 Batch 4:  Training loss: 0.0585   Validation accuracy: 0.678\n",
      "Epoch  7, CIFAR-10 Batch 5:  Training loss: 0.0556   Validation accuracy: 0.707\n",
      "Epoch  8, CIFAR-10 Batch 1:  Training loss: 0.0588   Validation accuracy: 0.684\n",
      "Epoch  8, CIFAR-10 Batch 2:  Training loss: 0.0172   Validation accuracy: 0.7  \n",
      "Epoch  8, CIFAR-10 Batch 3:  Training loss: 0.0177   Validation accuracy: 0.669\n",
      "Epoch  8, CIFAR-10 Batch 4:  Training loss: 0.0429   Validation accuracy: 0.69 \n",
      "Epoch  8, CIFAR-10 Batch 5:  Training loss: 0.0255   Validation accuracy: 0.676\n",
      "Epoch  9, CIFAR-10 Batch 1:  Training loss: 0.0224   Validation accuracy: 0.692\n",
      "Epoch  9, CIFAR-10 Batch 2:  Training loss: 0.023    Validation accuracy: 0.698\n",
      "Epoch  9, CIFAR-10 Batch 3:  Training loss: 0.0151   Validation accuracy: 0.671\n",
      "Epoch  9, CIFAR-10 Batch 4:  Training loss: 0.0252   Validation accuracy: 0.686\n",
      "Epoch  9, CIFAR-10 Batch 5:  Training loss: 0.0253   Validation accuracy: 0.69 \n",
      "Epoch 10, CIFAR-10 Batch 1:  Training loss: 0.0272   Validation accuracy: 0.687\n",
      "Epoch 10, CIFAR-10 Batch 2:  Training loss: 0.0119   Validation accuracy: 0.681\n",
      "Epoch 10, CIFAR-10 Batch 3:  Training loss: 0.0079   Validation accuracy: 0.698\n",
      "Epoch 10, CIFAR-10 Batch 4:  Training loss: 0.0185   Validation accuracy: 0.684\n",
      "Epoch 10, CIFAR-10 Batch 5:  Training loss: 0.0244   Validation accuracy: 0.701\n",
      "Epoch 11, CIFAR-10 Batch 1:  Training loss: 0.0164   Validation accuracy: 0.673\n",
      "Epoch 11, CIFAR-10 Batch 2:  Training loss: 0.00551  Validation accuracy: 0.684\n",
      "Epoch 11, CIFAR-10 Batch 3:  Training loss: 0.00394  Validation accuracy: 0.692\n",
      "Epoch 11, CIFAR-10 Batch 4:  Training loss: 0.00626  Validation accuracy: 0.69 \n",
      "Epoch 11, CIFAR-10 Batch 5:  Training loss: 0.00977  Validation accuracy: 0.702\n",
      "Epoch 12, CIFAR-10 Batch 1:  Training loss: 0.00725  Validation accuracy: 0.698\n",
      "Epoch 12, CIFAR-10 Batch 2:  Training loss: 0.00293  Validation accuracy: 0.71 \n",
      "Epoch 12, CIFAR-10 Batch 3:  Training loss: 0.00253  Validation accuracy: 0.693\n",
      "Epoch 12, CIFAR-10 Batch 4:  Training loss: 0.00767  Validation accuracy: 0.684\n",
      "Epoch 12, CIFAR-10 Batch 5:  Training loss: 0.00221  Validation accuracy: 0.709\n",
      "Epoch 13, CIFAR-10 Batch 1:  Training loss: 0.00639  Validation accuracy: 0.715\n",
      "Epoch 13, CIFAR-10 Batch 2:  Training loss: 0.0024   Validation accuracy: 0.698\n",
      "Epoch 13, CIFAR-10 Batch 3:  Training loss: 0.00535  Validation accuracy: 0.703\n",
      "Epoch 13, CIFAR-10 Batch 4:  Training loss: 0.00499  Validation accuracy: 0.693\n",
      "Epoch 13, CIFAR-10 Batch 5:  Training loss: 0.00336  Validation accuracy: 0.701\n",
      "Epoch 14, CIFAR-10 Batch 1:  Training loss: 0.00229  Validation accuracy: 0.696\n",
      "Epoch 14, CIFAR-10 Batch 2:  Training loss: 0.00122  Validation accuracy: 0.699\n",
      "Epoch 14, CIFAR-10 Batch 3:  Training loss: 0.00549  Validation accuracy: 0.698\n",
      "Epoch 14, CIFAR-10 Batch 4:  Training loss: 0.00109  Validation accuracy: 0.702\n",
      "Epoch 14, CIFAR-10 Batch 5:  Training loss: 0.00273  Validation accuracy: 0.68 \n",
      "Epoch 15, CIFAR-10 Batch 1:  Training loss: 0.000538 Validation accuracy: 0.71 \n",
      "Epoch 15, CIFAR-10 Batch 2:  Training loss: 0.000622 Validation accuracy: 0.706\n",
      "Epoch 15, CIFAR-10 Batch 3:  Training loss: 0.000835 Validation accuracy: 0.708\n",
      "Epoch 15, CIFAR-10 Batch 4:  Training loss: 0.00278  Validation accuracy: 0.709\n",
      "Epoch 15, CIFAR-10 Batch 5:  Training loss: 0.00184  Validation accuracy: 0.713\n",
      "Epoch 16, CIFAR-10 Batch 1:  Training loss: 0.0034   Validation accuracy: 0.7  \n",
      "Epoch 16, CIFAR-10 Batch 2:  Training loss: 0.00245  Validation accuracy: 0.68 \n",
      "Epoch 16, CIFAR-10 Batch 3:  Training loss: 0.00202  Validation accuracy: 0.711\n",
      "Epoch 16, CIFAR-10 Batch 4:  Training loss: 0.00135  Validation accuracy: 0.715\n",
      "Epoch 16, CIFAR-10 Batch 5:  Training loss: 0.00103  Validation accuracy: 0.703\n",
      "Epoch 17, CIFAR-10 Batch 1:  Training loss: 0.00216  Validation accuracy: 0.691\n",
      "Epoch 17, CIFAR-10 Batch 2:  Training loss: 0.000736 Validation accuracy: 0.697\n",
      "Epoch 17, CIFAR-10 Batch 3:  Training loss: 0.000674 Validation accuracy: 0.708\n",
      "Epoch 17, CIFAR-10 Batch 4:  Training loss: 0.00187  Validation accuracy: 0.718\n",
      "Epoch 17, CIFAR-10 Batch 5:  Training loss: 0.00369  Validation accuracy: 0.718\n",
      "Epoch 18, CIFAR-10 Batch 1:  Training loss: 0.000541 Validation accuracy: 0.698\n",
      "Epoch 18, CIFAR-10 Batch 2:  Training loss: 0.00193  Validation accuracy: 0.696\n",
      "Epoch 18, CIFAR-10 Batch 3:  Training loss: 0.000403 Validation accuracy: 0.702\n",
      "Epoch 18, CIFAR-10 Batch 4:  Training loss: 0.000951 Validation accuracy: 0.717\n",
      "Epoch 18, CIFAR-10 Batch 5:  Training loss: 0.000892 Validation accuracy: 0.707\n",
      "Epoch 19, CIFAR-10 Batch 1:  Training loss: 0.000161 Validation accuracy: 0.704\n",
      "Epoch 19, CIFAR-10 Batch 2:  Training loss: 0.00268  Validation accuracy: 0.687\n",
      "Epoch 19, CIFAR-10 Batch 3:  Training loss: 0.000299 Validation accuracy: 0.703\n",
      "Epoch 19, CIFAR-10 Batch 4:  Training loss: 0.00191  Validation accuracy: 0.691\n",
      "Epoch 19, CIFAR-10 Batch 5:  Training loss: 0.00433  Validation accuracy: 0.707\n",
      "Epoch 20, CIFAR-10 Batch 1:  Training loss: 0.000745 Validation accuracy: 0.689\n",
      "Epoch 20, CIFAR-10 Batch 2:  Training loss: 0.000602 Validation accuracy: 0.702\n",
      "Epoch 20, CIFAR-10 Batch 3:  Training loss: 0.000202 Validation accuracy: 0.707\n",
      "Epoch 20, CIFAR-10 Batch 4:  Training loss: 0.00394  Validation accuracy: 0.698\n",
      "Epoch 20, CIFAR-10 Batch 5:  Training loss: 0.000779 Validation accuracy: 0.707\n",
      "Epoch 21, CIFAR-10 Batch 1:  Training loss: 0.00102  Validation accuracy: 0.7  \n",
      "Epoch 21, CIFAR-10 Batch 2:  Training loss: 0.000554 Validation accuracy: 0.7  \n",
      "Epoch 21, CIFAR-10 Batch 3:  Training loss: 0.000573 Validation accuracy: 0.7  \n",
      "Epoch 21, CIFAR-10 Batch 4:  Training loss: 0.00222  Validation accuracy: 0.695\n",
      "Epoch 21, CIFAR-10 Batch 5:  Training loss: 0.00283  Validation accuracy: 0.698\n",
      "Epoch 22, CIFAR-10 Batch 1:  Training loss: 0.00302  Validation accuracy: 0.702\n",
      "Epoch 22, CIFAR-10 Batch 2:  Training loss: 0.000164 Validation accuracy: 0.713\n",
      "Epoch 22, CIFAR-10 Batch 3:  Training loss: 0.000426 Validation accuracy: 0.706\n",
      "Epoch 22, CIFAR-10 Batch 4:  Training loss: 0.00135  Validation accuracy: 0.69 \n",
      "Epoch 22, CIFAR-10 Batch 5:  Training loss: 0.000808 Validation accuracy: 0.706\n",
      "Epoch 23, CIFAR-10 Batch 1:  Training loss: 0.00202  Validation accuracy: 0.695\n",
      "Epoch 23, CIFAR-10 Batch 2:  Training loss: 4.28e-05 Validation accuracy: 0.714\n",
      "Epoch 23, CIFAR-10 Batch 3:  Training loss: 0.000226 Validation accuracy: 0.694\n",
      "Epoch 23, CIFAR-10 Batch 4:  Training loss: 0.000774 Validation accuracy: 0.705\n",
      "Epoch 23, CIFAR-10 Batch 5:  Training loss: 0.000916 Validation accuracy: 0.707\n",
      "Epoch 24, CIFAR-10 Batch 1:  Training loss: 0.000233 Validation accuracy: 0.71 \n",
      "Epoch 24, CIFAR-10 Batch 2:  Training loss: 0.000104 Validation accuracy: 0.71 \n",
      "Epoch 24, CIFAR-10 Batch 3:  Training loss: 0.000515 Validation accuracy: 0.707\n",
      "Epoch 24, CIFAR-10 Batch 4:  Training loss: 0.000855 Validation accuracy: 0.712\n",
      "Epoch 24, CIFAR-10 Batch 5:  Training loss: 0.00053  Validation accuracy: 0.708\n",
      "Epoch 25, CIFAR-10 Batch 1:  Training loss: 0.000687 Validation accuracy: 0.71 \n",
      "Epoch 25, CIFAR-10 Batch 2:  Training loss: 0.000118 Validation accuracy: 0.705\n",
      "Epoch 25, CIFAR-10 Batch 3:  Training loss: 0.000631 Validation accuracy: 0.706\n",
      "Epoch 25, CIFAR-10 Batch 4:  Training loss: 0.00183  Validation accuracy: 0.703\n",
      "Epoch 25, CIFAR-10 Batch 5:  Training loss: 0.000276 Validation accuracy: 0.716\n",
      "Epoch 26, CIFAR-10 Batch 1:  Training loss: 0.000275 Validation accuracy: 0.705\n",
      "Epoch 26, CIFAR-10 Batch 2:  Training loss: 9.64e-05 Validation accuracy: 0.709\n",
      "Epoch 26, CIFAR-10 Batch 3:  Training loss: 0.000518 Validation accuracy: 0.7  \n",
      "Epoch 26, CIFAR-10 Batch 4:  Training loss: 0.00014  Validation accuracy: 0.708\n",
      "Epoch 26, CIFAR-10 Batch 5:  Training loss: 0.00146  Validation accuracy: 0.7  \n",
      "Epoch 27, CIFAR-10 Batch 1:  Training loss: 0.0009   Validation accuracy: 0.705\n",
      "Epoch 27, CIFAR-10 Batch 2:  Training loss: 7.14e-05 Validation accuracy: 0.706\n",
      "Epoch 27, CIFAR-10 Batch 3:  Training loss: 0.000622 Validation accuracy: 0.708\n",
      "Epoch 27, CIFAR-10 Batch 4:  Training loss: 0.000541 Validation accuracy: 0.697\n",
      "Epoch 27, CIFAR-10 Batch 5:  Training loss: 0.000692 Validation accuracy: 0.721\n",
      "Epoch 28, CIFAR-10 Batch 1:  Training loss: 2.01e-05 Validation accuracy: 0.7  \n",
      "Epoch 28, CIFAR-10 Batch 2:  Training loss: 0.000989 Validation accuracy: 0.716\n",
      "Epoch 28, CIFAR-10 Batch 3:  Training loss: 0.000158 Validation accuracy: 0.701\n",
      "Epoch 28, CIFAR-10 Batch 4:  Training loss: 0.000155 Validation accuracy: 0.711\n",
      "Epoch 28, CIFAR-10 Batch 5:  Training loss: 0.000673 Validation accuracy: 0.7  \n",
      "Epoch 29, CIFAR-10 Batch 1:  Training loss: 0.000118 Validation accuracy: 0.707\n",
      "Epoch 29, CIFAR-10 Batch 2:  Training loss: 0.000184 Validation accuracy: 0.707\n",
      "Epoch 29, CIFAR-10 Batch 3:  Training loss: 0.000768 Validation accuracy: 0.709\n",
      "Epoch 29, CIFAR-10 Batch 4:  Training loss: 0.000168 Validation accuracy: 0.708\n",
      "Epoch 29, CIFAR-10 Batch 5:  Training loss: 0.000514 Validation accuracy: 0.699\n",
      "Epoch 30, CIFAR-10 Batch 1:  Training loss: 0.000347 Validation accuracy: 0.707\n",
      "Epoch 30, CIFAR-10 Batch 2:  Training loss: 0.000113 Validation accuracy: 0.708\n",
      "Epoch 30, CIFAR-10 Batch 3:  Training loss: 0.000778 Validation accuracy: 0.71 \n",
      "Epoch 30, CIFAR-10 Batch 4:  Training loss: 0.0116   Validation accuracy: 0.719\n",
      "Epoch 30, CIFAR-10 Batch 5:  Training loss: 0.00182  Validation accuracy: 0.705\n",
      "Epoch 31, CIFAR-10 Batch 1:  Training loss: 0.00179  Validation accuracy: 0.698\n",
      "Epoch 31, CIFAR-10 Batch 2:  Training loss: 2.23e-05 Validation accuracy: 0.717\n",
      "Epoch 31, CIFAR-10 Batch 3:  Training loss: 0.00018  Validation accuracy: 0.713\n",
      "Epoch 31, CIFAR-10 Batch 4:  Training loss: 0.000125 Validation accuracy: 0.72 \n",
      "Epoch 31, CIFAR-10 Batch 5:  Training loss: 0.00036  Validation accuracy: 0.715\n",
      "Epoch 32, CIFAR-10 Batch 1:  Training loss: 2.09e-05 Validation accuracy: 0.701\n",
      "Epoch 32, CIFAR-10 Batch 2:  Training loss: 0.000127 Validation accuracy: 0.715\n",
      "Epoch 32, CIFAR-10 Batch 3:  Training loss: 0.000241 Validation accuracy: 0.716\n",
      "Epoch 32, CIFAR-10 Batch 4:  Training loss: 7.31e-05 Validation accuracy: 0.695\n",
      "Epoch 32, CIFAR-10 Batch 5:  Training loss: 0.000547 Validation accuracy: 0.697\n",
      "Epoch 33, CIFAR-10 Batch 1:  Training loss: 3.22e-05 Validation accuracy: 0.712\n",
      "Epoch 33, CIFAR-10 Batch 2:  Training loss: 0.000212 Validation accuracy: 0.711\n",
      "Epoch 33, CIFAR-10 Batch 3:  Training loss: 0.000141 Validation accuracy: 0.713\n",
      "Epoch 33, CIFAR-10 Batch 4:  Training loss: 0.00159  Validation accuracy: 0.709\n",
      "Epoch 33, CIFAR-10 Batch 5:  Training loss: 0.00021  Validation accuracy: 0.713\n",
      "Epoch 34, CIFAR-10 Batch 1:  Training loss: 5.45e-05 Validation accuracy: 0.717\n",
      "Epoch 34, CIFAR-10 Batch 2:  Training loss: 5.15e-05 Validation accuracy: 0.712\n",
      "Epoch 34, CIFAR-10 Batch 3:  Training loss: 4.25e-05 Validation accuracy: 0.718\n",
      "Epoch 34, CIFAR-10 Batch 4:  Training loss: 7.65e-05 Validation accuracy: 0.711\n",
      "Epoch 34, CIFAR-10 Batch 5:  Training loss: 0.00212  Validation accuracy: 0.709\n",
      "Epoch 35, CIFAR-10 Batch 1:  Training loss: 6.5e-05  Validation accuracy: 0.71 \n",
      "Epoch 35, CIFAR-10 Batch 2:  Training loss: 4.3e-05  Validation accuracy: 0.717\n",
      "Epoch 35, CIFAR-10 Batch 3:  Training loss: 0.00016  Validation accuracy: 0.704\n",
      "Epoch 35, CIFAR-10 Batch 4:  Training loss: 0.00366  Validation accuracy: 0.704\n",
      "Epoch 35, CIFAR-10 Batch 5:  Training loss: 0.000178 Validation accuracy: 0.71 \n",
      "Epoch 36, CIFAR-10 Batch 1:  Training loss: 2.94e-05 Validation accuracy: 0.713\n",
      "Epoch 36, CIFAR-10 Batch 2:  Training loss: 6.94e-05 Validation accuracy: 0.714\n",
      "Epoch 36, CIFAR-10 Batch 3:  Training loss: 8.68e-05 Validation accuracy: 0.703\n",
      "Epoch 36, CIFAR-10 Batch 4:  Training loss: 0.000276 Validation accuracy: 0.715\n",
      "Epoch 36, CIFAR-10 Batch 5:  Training loss: 0.000338 Validation accuracy: 0.711\n",
      "Epoch 37, CIFAR-10 Batch 1:  Training loss: 1.41e-05 Validation accuracy: 0.707\n",
      "Epoch 37, CIFAR-10 Batch 2:  Training loss: 0.000306 Validation accuracy: 0.705\n",
      "Epoch 37, CIFAR-10 Batch 3:  Training loss: 0.000413 Validation accuracy: 0.702\n",
      "Epoch 37, CIFAR-10 Batch 4:  Training loss: 8.12e-05 Validation accuracy: 0.71 \n",
      "Epoch 37, CIFAR-10 Batch 5:  Training loss: 0.000504 Validation accuracy: 0.706\n",
      "Epoch 38, CIFAR-10 Batch 1:  Training loss: 6.07e-05 Validation accuracy: 0.701\n",
      "Epoch 38, CIFAR-10 Batch 2:  Training loss: 4.34e-05 Validation accuracy: 0.714\n",
      "Epoch 38, CIFAR-10 Batch 3:  Training loss: 0.000781 Validation accuracy: 0.727\n",
      "Epoch 38, CIFAR-10 Batch 4:  Training loss: 0.000145 Validation accuracy: 0.718\n",
      "Epoch 38, CIFAR-10 Batch 5:  Training loss: 0.000274 Validation accuracy: 0.717\n",
      "Epoch 39, CIFAR-10 Batch 1:  Training loss: 9.42e-05 Validation accuracy: 0.712\n",
      "Epoch 39, CIFAR-10 Batch 2:  Training loss: 7.97e-05 Validation accuracy: 0.711\n",
      "Epoch 39, CIFAR-10 Batch 3:  Training loss: 0.000119 Validation accuracy: 0.714\n",
      "Epoch 39, CIFAR-10 Batch 4:  Training loss: 0.000138 Validation accuracy: 0.714\n",
      "Epoch 39, CIFAR-10 Batch 5:  Training loss: 0.000353 Validation accuracy: 0.716\n",
      "Epoch 40, CIFAR-10 Batch 1:  Training loss: 1.83e-05 Validation accuracy: 0.713\n",
      "Epoch 40, CIFAR-10 Batch 2:  Training loss: 1.57e-05 Validation accuracy: 0.716\n",
      "Epoch 40, CIFAR-10 Batch 3:  Training loss: 4.25e-05 Validation accuracy: 0.726\n",
      "Epoch 40, CIFAR-10 Batch 4:  Training loss: 0.000443 Validation accuracy: 0.714\n",
      "Epoch 40, CIFAR-10 Batch 5:  Training loss: 0.00109  Validation accuracy: 0.721\n",
      "Epoch 41, CIFAR-10 Batch 1:  Training loss: 8.8e-06  Validation accuracy: 0.72 \n",
      "Epoch 41, CIFAR-10 Batch 2:  Training loss: 0.000203 Validation accuracy: 0.72 \n",
      "Epoch 41, CIFAR-10 Batch 3:  Training loss: 5.29e-05 Validation accuracy: 0.72 \n",
      "Epoch 41, CIFAR-10 Batch 4:  Training loss: 1.27e-05 Validation accuracy: 0.712\n",
      "Epoch 41, CIFAR-10 Batch 5:  Training loss: 0.000423 Validation accuracy: 0.704\n",
      "Epoch 42, CIFAR-10 Batch 1:  Training loss: 2.76e-05 Validation accuracy: 0.714\n",
      "Epoch 42, CIFAR-10 Batch 2:  Training loss: 0.000697 Validation accuracy: 0.701\n",
      "Epoch 42, CIFAR-10 Batch 3:  Training loss: 0.000398 Validation accuracy: 0.704\n",
      "Epoch 42, CIFAR-10 Batch 4:  Training loss: 0.000115 Validation accuracy: 0.713\n",
      "Epoch 42, CIFAR-10 Batch 5:  Training loss: 0.000309 Validation accuracy: 0.719\n",
      "Epoch 43, CIFAR-10 Batch 1:  Training loss: 6.6e-05  Validation accuracy: 0.708\n",
      "Epoch 43, CIFAR-10 Batch 2:  Training loss: 0.000126 Validation accuracy: 0.709\n",
      "Epoch 43, CIFAR-10 Batch 3:  Training loss: 8.19e-06 Validation accuracy: 0.724\n",
      "Epoch 43, CIFAR-10 Batch 4:  Training loss: 0.000143 Validation accuracy: 0.711\n",
      "Epoch 43, CIFAR-10 Batch 5:  Training loss: 0.000733 Validation accuracy: 0.706\n",
      "Epoch 44, CIFAR-10 Batch 1:  Training loss: 9.47e-05 Validation accuracy: 0.71 \n",
      "Epoch 44, CIFAR-10 Batch 2:  Training loss: 5.32e-05 Validation accuracy: 0.721\n",
      "Epoch 44, CIFAR-10 Batch 3:  Training loss: 5.7e-05  Validation accuracy: 0.717\n",
      "Epoch 44, CIFAR-10 Batch 4:  Training loss: 0.000695 Validation accuracy: 0.708\n",
      "Epoch 44, CIFAR-10 Batch 5:  Training loss: 0.000226 Validation accuracy: 0.714\n",
      "Epoch 45, CIFAR-10 Batch 1:  Training loss: 3.42e-05 Validation accuracy: 0.71 \n",
      "Epoch 45, CIFAR-10 Batch 2:  Training loss: 9.45e-05 Validation accuracy: 0.717\n",
      "Epoch 45, CIFAR-10 Batch 3:  Training loss: 4.7e-05  Validation accuracy: 0.718\n",
      "Epoch 45, CIFAR-10 Batch 4:  Training loss: 7.12e-05 Validation accuracy: 0.714\n",
      "Epoch 45, CIFAR-10 Batch 5:  Training loss: 0.000139 Validation accuracy: 0.715\n",
      "Epoch 46, CIFAR-10 Batch 1:  Training loss: 1.15e-05 Validation accuracy: 0.714\n",
      "Epoch 46, CIFAR-10 Batch 2:  Training loss: 7.24e-05 Validation accuracy: 0.72 \n",
      "Epoch 46, CIFAR-10 Batch 3:  Training loss: 6.43e-05 Validation accuracy: 0.721\n",
      "Epoch 46, CIFAR-10 Batch 4:  Training loss: 0.000286 Validation accuracy: 0.719\n",
      "Epoch 46, CIFAR-10 Batch 5:  Training loss: 0.000151 Validation accuracy: 0.711\n",
      "Epoch 47, CIFAR-10 Batch 1:  Training loss: 7.91e-05 Validation accuracy: 0.722\n",
      "Epoch 47, CIFAR-10 Batch 2:  Training loss: 4.78e-05 Validation accuracy: 0.72 \n",
      "Epoch 47, CIFAR-10 Batch 3:  Training loss: 9.77e-06 Validation accuracy: 0.715\n",
      "Epoch 47, CIFAR-10 Batch 4:  Training loss: 0.000349 Validation accuracy: 0.725\n",
      "Epoch 47, CIFAR-10 Batch 5:  Training loss: 1.19e-05 Validation accuracy: 0.701\n",
      "Epoch 48, CIFAR-10 Batch 1:  Training loss: 0.000624 Validation accuracy: 0.723\n",
      "Epoch 48, CIFAR-10 Batch 2:  Training loss: 0.000271 Validation accuracy: 0.714\n",
      "Epoch 48, CIFAR-10 Batch 3:  Training loss: 0.000107 Validation accuracy: 0.724\n",
      "Epoch 48, CIFAR-10 Batch 4:  Training loss: 0.000782 Validation accuracy: 0.716\n",
      "Epoch 48, CIFAR-10 Batch 5:  Training loss: 7.07e-05 Validation accuracy: 0.71 \n",
      "Epoch 49, CIFAR-10 Batch 1:  Training loss: 7.7e-06  Validation accuracy: 0.707\n",
      "Epoch 49, CIFAR-10 Batch 2:  Training loss: 0.000548 Validation accuracy: 0.72 \n",
      "Epoch 49, CIFAR-10 Batch 3:  Training loss: 9.2e-06  Validation accuracy: 0.719\n",
      "Epoch 49, CIFAR-10 Batch 4:  Training loss: 0.00108  Validation accuracy: 0.714\n",
      "Epoch 49, CIFAR-10 Batch 5:  Training loss: 0.000358 Validation accuracy: 0.714\n",
      "Epoch 50, CIFAR-10 Batch 1:  Training loss: 6.68e-06 Validation accuracy: 0.713\n",
      "Epoch 50, CIFAR-10 Batch 2:  Training loss: 0.00466  Validation accuracy: 0.719\n",
      "Epoch 50, CIFAR-10 Batch 3:  Training loss: 9.17e-05 Validation accuracy: 0.723\n",
      "Epoch 50, CIFAR-10 Batch 4:  Training loss: 2.82e-05 Validation accuracy: 0.715\n",
      "Epoch 50, CIFAR-10 Batch 5:  Training loss: 0.00106  Validation accuracy: 0.714\n"
     ]
    }
   ],
   "source": [
    "\"\"\"\n",
    "DON'T MODIFY ANYTHING IN THIS CELL\n",
    "\"\"\"\n",
    "save_model_path = './image_classification'\n",
    "\n",
    "print('Training...')\n",
    "with tf.Session() as sess:\n",
    "    # Initializing the variables\n",
    "    sess.run(tf.global_variables_initializer())\n",
    "    \n",
    "    # Training cycle\n",
    "    for epoch in range(epochs):\n",
    "        # Loop over all batches\n",
    "        n_batches = 5\n",
    "        for batch_i in range(1, n_batches + 1):\n",
    "            for batch_features, batch_labels in helper.load_preprocess_training_batch(batch_i, batch_size):\n",
    "                train_neural_network(sess, optimizer, keep_probability, batch_features, batch_labels)\n",
    "            print('Epoch {:>2}, CIFAR-10 Batch {}:  '.format(epoch + 1, batch_i), end='')\n",
    "            print_stats(sess, batch_features, batch_labels, cost, accuracy)\n",
    "            \n",
    "    # Save Model\n",
    "    saver = tf.train.Saver()\n",
    "    save_path = saver.save(sess, save_model_path)"
   ]
  },
  {
   "cell_type": "markdown",
   "metadata": {},
   "source": [
    "# Checkpoint\n",
    "The model has been saved to disk.\n",
    "## Test Model\n",
    "Test your model against the test dataset.  This will be your final accuracy. You should have an accuracy greater than 50%. If you don't, keep tweaking the model architecture and parameters."
   ]
  },
  {
   "cell_type": "code",
   "execution_count": 52,
   "metadata": {},
   "outputs": [
    {
     "name": "stdout",
     "output_type": "stream",
     "text": [
      "Testing Accuracy: 0.6927734375\n",
      "\n"
     ]
    },
    {
     "data": {
      "image/png": "[encoded data removed]",
      "text/plain": [
       "<matplotlib.figure.Figure at 0x7f822efb5208>"
      ]
     },
     "metadata": {
      "image/png": {
       "height": 319,
       "width": 355
      }
     },
     "output_type": "display_data"
    }
   ],
   "source": [
    "\"\"\"\n",
    "DON'T MODIFY ANYTHING IN THIS CELL\n",
    "\"\"\"\n",
    "%matplotlib inline\n",
    "%config InlineBackend.figure_format = 'retina'\n",
    "\n",
    "import tensorflow as tf\n",
    "import pickle\n",
    "import helper\n",
    "import random\n",
    "\n",
    "# Set batch size if not already set\n",
    "try:\n",
    "    if batch_size:\n",
    "        pass\n",
    "except NameError:\n",
    "    batch_size = 64\n",
    "\n",
    "save_model_path = './image_classification'\n",
    "n_samples = 4\n",
    "top_n_predictions = 3\n",
    "\n",
    "def test_model():\n",
    "    \"\"\"\n",
    "    Test the saved model against the test dataset\n",
    "    \"\"\"\n",
    "\n",
    "    test_features, test_labels = pickle.load(open('preprocess_test.p', mode='rb'))\n",
    "    loaded_graph = tf.Graph()\n",
    "\n",
    "    with tf.Session(graph=loaded_graph) as sess:\n",
    "        # Load model\n",
    "        loader = tf.train.import_meta_graph(save_model_path + '.meta')\n",
    "        loader.restore(sess, save_model_path)\n",
    "\n",
    "        # Get Tensors from loaded model\n",
    "        loaded_x = loaded_graph.get_tensor_by_name('x:0')\n",
    "        loaded_y = loaded_graph.get_tensor_by_name('y:0')\n",
    "        loaded_keep_prob = loaded_graph.get_tensor_by_name('keep_prob:0')\n",
    "        loaded_logits = loaded_graph.get_tensor_by_name('logits:0')\n",
    "        loaded_acc = loaded_graph.get_tensor_by_name('accuracy:0')\n",
    "        \n",
    "        # Get accuracy in batches for memory limitations\n",
    "        test_batch_acc_total = 0\n",
    "        test_batch_count = 0\n",
    "        \n",
    "        for test_feature_batch, test_label_batch in helper.batch_features_labels(test_features, test_labels, batch_size):\n",
    "            test_batch_acc_total += sess.run(\n",
    "                loaded_acc,\n",
    "                feed_dict={loaded_x: test_feature_batch, loaded_y: test_label_batch, loaded_keep_prob: 1.0})\n",
    "            test_batch_count += 1\n",
    "\n",
    "        print('Testing Accuracy: {}\\n'.format(test_batch_acc_total/test_batch_count))\n",
    "\n",
    "        # Print Random Samples\n",
    "        random_test_features, random_test_labels = tuple(zip(*random.sample(list(zip(test_features, test_labels)), n_samples)))\n",
    "        random_test_predictions = sess.run(\n",
    "            tf.nn.top_k(tf.nn.softmax(loaded_logits), top_n_predictions),\n",
    "            feed_dict={loaded_x: random_test_features, loaded_y: random_test_labels, loaded_keep_prob: 1.0})\n",
    "        helper.display_image_predictions(random_test_features, random_test_labels, random_test_predictions)\n",
    "\n",
    "\n",
    "test_model()"
   ]
  },
  {
   "cell_type": "markdown",
   "metadata": {},
   "source": [
    "## Why 50-80% Accuracy?\n",
    "You might be wondering why you can't get an accuracy any higher. First things first, 50% isn't bad for a simple CNN.  Pure guessing would get you 10% accuracy. However, you might notice people are getting scores [well above 80%](http://rodrigob.github.io/are_we_there_yet/build/classification_datasets_results.html#43494641522d3130).  That's because we haven't taught you all there is to know about neural networks. We still need to cover a few more techniques.\n",
    "## Submitting This Project\n",
    "When submitting this project, make sure to run all the cells before saving the notebook.  Save the notebook file as \"dlnd_image_classification.ipynb\" and save it as a HTML file under \"File\" -> \"Download as\".  Include the \"helper.py\" and \"problem_unittests.py\" files in your submission."
   ]
  }
 ],
 "metadata": {
  "kernelspec": {
   "display_name": "Python 3",
   "language": "python",
   "name": "python3"
  },
  "language_info": {
   "codemirror_mode": {
    "name": "ipython",
    "version": 3
   },
   "file_extension": ".py",
   "mimetype": "text/x-python",
   "name": "python",
   "nbconvert_exporter": "python",
   "pygments_lexer": "ipython3",
   "version": "3.6.1"
  }
 },
 "nbformat": 4,
 "nbformat_minor": 1
}
